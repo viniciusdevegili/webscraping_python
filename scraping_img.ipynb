{
 "cells": [
  {
   "cell_type": "code",
   "execution_count": 112,
   "metadata": {},
   "outputs": [
    {
     "name": "stdout",
     "output_type": "stream",
     "text": [
      "Requirement already satisfied: selenium in c:\\users\\vinic\\onedrive\\área de trabalho\\webscraping\\.venv\\lib\\site-packages (4.28.1)\n",
      "Requirement already satisfied: urllib3<3,>=1.26 in c:\\users\\vinic\\onedrive\\área de trabalho\\webscraping\\.venv\\lib\\site-packages (from urllib3[socks]<3,>=1.26->selenium) (2.3.0)\n",
      "Requirement already satisfied: trio~=0.17 in c:\\users\\vinic\\onedrive\\área de trabalho\\webscraping\\.venv\\lib\\site-packages (from selenium) (0.29.0)\n",
      "Requirement already satisfied: trio-websocket~=0.9 in c:\\users\\vinic\\onedrive\\área de trabalho\\webscraping\\.venv\\lib\\site-packages (from selenium) (0.12.1)\n",
      "Requirement already satisfied: certifi>=2021.10.8 in c:\\users\\vinic\\onedrive\\área de trabalho\\webscraping\\.venv\\lib\\site-packages (from selenium) (2025.1.31)\n",
      "Requirement already satisfied: typing_extensions~=4.9 in c:\\users\\vinic\\onedrive\\área de trabalho\\webscraping\\.venv\\lib\\site-packages (from selenium) (4.12.2)\n",
      "Requirement already satisfied: websocket-client~=1.8 in c:\\users\\vinic\\onedrive\\área de trabalho\\webscraping\\.venv\\lib\\site-packages (from selenium) (1.8.0)\n",
      "Requirement already satisfied: attrs>=23.2.0 in c:\\users\\vinic\\onedrive\\área de trabalho\\webscraping\\.venv\\lib\\site-packages (from trio~=0.17->selenium) (25.1.0)\n",
      "Requirement already satisfied: sortedcontainers in c:\\users\\vinic\\onedrive\\área de trabalho\\webscraping\\.venv\\lib\\site-packages (from trio~=0.17->selenium) (2.4.0)\n",
      "Requirement already satisfied: idna in c:\\users\\vinic\\onedrive\\área de trabalho\\webscraping\\.venv\\lib\\site-packages (from trio~=0.17->selenium) (3.10)\n",
      "Requirement already satisfied: outcome in c:\\users\\vinic\\onedrive\\área de trabalho\\webscraping\\.venv\\lib\\site-packages (from trio~=0.17->selenium) (1.3.0.post0)\n",
      "Requirement already satisfied: sniffio>=1.3.0 in c:\\users\\vinic\\onedrive\\área de trabalho\\webscraping\\.venv\\lib\\site-packages (from trio~=0.17->selenium) (1.3.1)\n",
      "Requirement already satisfied: cffi>=1.14 in c:\\users\\vinic\\onedrive\\área de trabalho\\webscraping\\.venv\\lib\\site-packages (from trio~=0.17->selenium) (1.17.1)\n",
      "Requirement already satisfied: wsproto>=0.14 in c:\\users\\vinic\\onedrive\\área de trabalho\\webscraping\\.venv\\lib\\site-packages (from trio-websocket~=0.9->selenium) (1.2.0)\n",
      "Requirement already satisfied: pysocks!=1.5.7,<2.0,>=1.5.6 in c:\\users\\vinic\\onedrive\\área de trabalho\\webscraping\\.venv\\lib\\site-packages (from urllib3[socks]<3,>=1.26->selenium) (1.7.1)\n",
      "Requirement already satisfied: pycparser in c:\\users\\vinic\\onedrive\\área de trabalho\\webscraping\\.venv\\lib\\site-packages (from cffi>=1.14->trio~=0.17->selenium) (2.22)\n",
      "Requirement already satisfied: h11<1,>=0.9.0 in c:\\users\\vinic\\onedrive\\área de trabalho\\webscraping\\.venv\\lib\\site-packages (from wsproto>=0.14->trio-websocket~=0.9->selenium) (0.14.0)\n",
      "Note: you may need to restart the kernel to use updated packages.\n",
      "Requirement already satisfied: pandas in c:\\users\\vinic\\onedrive\\área de trabalho\\webscraping\\.venv\\lib\\site-packages (2.2.3)\n",
      "Requirement already satisfied: numpy>=1.26.0 in c:\\users\\vinic\\onedrive\\área de trabalho\\webscraping\\.venv\\lib\\site-packages (from pandas) (2.2.3)\n",
      "Requirement already satisfied: python-dateutil>=2.8.2 in c:\\users\\vinic\\onedrive\\área de trabalho\\webscraping\\.venv\\lib\\site-packages (from pandas) (2.9.0.post0)\n",
      "Requirement already satisfied: pytz>=2020.1 in c:\\users\\vinic\\onedrive\\área de trabalho\\webscraping\\.venv\\lib\\site-packages (from pandas) (2025.1)\n",
      "Requirement already satisfied: tzdata>=2022.7 in c:\\users\\vinic\\onedrive\\área de trabalho\\webscraping\\.venv\\lib\\site-packages (from pandas) (2025.1)\n",
      "Requirement already satisfied: six>=1.5 in c:\\users\\vinic\\onedrive\\área de trabalho\\webscraping\\.venv\\lib\\site-packages (from python-dateutil>=2.8.2->pandas) (1.17.0)\n",
      "Note: you may need to restart the kernel to use updated packages.\n"
     ]
    }
   ],
   "source": [
    "%pip install selenium\n",
    "%pip install pandas\n",
    "from selenium import webdriver\n",
    "from selenium.webdriver.chrome.service import Service\n",
    "from selenium.webdriver.common.by import By\n",
    "\n",
    "import pandas as pd\n",
    "pd.set_option('display.max_colwidth', None)"
   ]
  },
  {
   "cell_type": "code",
   "execution_count": 113,
   "metadata": {},
   "outputs": [],
   "source": [
    "# Instância do Chrome\n",
    "\n",
    "# Classe Service, usada para iniciar uma instância do Chrome\n",
    "service = Service()\n",
    "\n",
    "# Usado para definir a preferência para o brower do Chrome\n",
    "options = webdriver.ChromeOptions()\n",
    "\n",
    "# Inicia a instância do Chrome WebDriver com as definidas 'options' e 'services\n",
    "driver = webdriver.Chrome(service=service, options=options)"
   ]
  },
  {
   "cell_type": "code",
   "execution_count": 114,
   "metadata": {},
   "outputs": [],
   "source": [
    "base_url = 'https://www.drogariacatarinense.com.br/medicamentos#'"
   ]
  },
  {
   "cell_type": "code",
   "execution_count": 115,
   "metadata": {},
   "outputs": [],
   "source": [
    "num_pages = 50"
   ]
  },
  {
   "cell_type": "code",
   "execution_count": 116,
   "metadata": {},
   "outputs": [],
   "source": [
    "driver.get(base_url)"
   ]
  },
  {
   "cell_type": "code",
   "execution_count": null,
   "metadata": {},
   "outputs": [
    {
     "name": "stdout",
     "output_type": "stream",
     "text": [
      "Acessando a página 1: Medicamentos | Drogaria Catarinense\n",
      "Erro ao tentar ir para a próxima página: Message: \n",
      "Stacktrace:\n",
      "\tGetHandleVerifier [0x00007FF6A30A6F15+28773]\n",
      "\t(No symbol) [0x00007FF6A3012600]\n",
      "\t(No symbol) [0x00007FF6A2EA8FAA]\n",
      "\t(No symbol) [0x00007FF6A2EFF286]\n",
      "\t(No symbol) [0x00007FF6A2EFF4BC]\n",
      "\t(No symbol) [0x00007FF6A2F52A27]\n",
      "\t(No symbol) [0x00007FF6A2F2728F]\n",
      "\t(No symbol) [0x00007FF6A2F4F6F3]\n",
      "\t(No symbol) [0x00007FF6A2F27023]\n",
      "\t(No symbol) [0x00007FF6A2EEFF5E]\n",
      "\t(No symbol) [0x00007FF6A2EF11E3]\n",
      "\tGetHandleVerifier [0x00007FF6A33F425D+3490733]\n",
      "\tGetHandleVerifier [0x00007FF6A340BA43+3586963]\n",
      "\tGetHandleVerifier [0x00007FF6A340147D+3544525]\n",
      "\tGetHandleVerifier [0x00007FF6A316C9DA+838442]\n",
      "\t(No symbol) [0x00007FF6A301D04F]\n",
      "\t(No symbol) [0x00007FF6A3019614]\n",
      "\t(No symbol) [0x00007FF6A30197B6]\n",
      "\t(No symbol) [0x00007FF6A3008CE9]\n",
      "\tBaseThreadInitThunk [0x00007FF8271BE8D7+23]\n",
      "\tRtlUserThreadStart [0x00007FF827E9BF2C+44]\n",
      "\n"
     ]
    }
   ],
   "source": [
    "import time\n",
    "for page_num in range(1, num_pages + 1):\n",
    "    url = f\"{base_url}{page_num}\"\n",
    "\n",
    "    driver.get(url)\n",
    "    \n",
    "    time.sleep(3)"
   ]
  },
  {
   "cell_type": "code",
   "execution_count": 118,
   "metadata": {},
   "outputs": [],
   "source": [
    "imagens = driver.find_elements(By.XPATH, \"//div[@class='product-item__img__default']//img\")"
   ]
  },
  {
   "cell_type": "code",
   "execution_count": 119,
   "metadata": {},
   "outputs": [],
   "source": [
    "urls_imagens = [img.get_attribute('src') for img in imagens if img.get_attribute('src') is not None]"
   ]
  },
  {
   "cell_type": "code",
   "execution_count": 120,
   "metadata": {},
   "outputs": [
    {
     "name": "stdout",
     "output_type": "stream",
     "text": [
      "https://drogariacatarinense.vteximg.com.br/arquivos/ids/183552-500-500/rotulo_dc_generico_receita.jpg?v=637872898578730000\n",
      "https://drogariacatarinense.vteximg.com.br/arquivos/ids/183915-500-500/rotulo_dc_generico_receita.jpg?v=637884121489370000\n",
      "https://drogariacatarinense.vteximg.com.br/arquivos/ids/220624-500-500/Similar_TarjaVermelha.jpg?v=638675546742230000\n",
      "https://drogariacatarinense.vteximg.com.br/arquivos/ids/182058-500-500/rotulo_dc_generico_receita.jpg?v=637854513130200000\n",
      "https://drogariacatarinense.vteximg.com.br/arquivos/ids/183471-500-500/rotulo_dc_generico_receita.jpg?v=637872634961300000\n",
      "https://drogariacatarinense.vteximg.com.br/arquivos/ids/182063-500-500/rotulo_dc_generico_receita.jpg?v=637854527984900000\n",
      "https://drogariacatarinense.vteximg.com.br/arquivos/ids/220810-500-500/749221-Vitamina--B12-Maxinutri-Com-60-Comprimidos-Mastigaveis.jpg?v=638676369985500000\n",
      "https://drogariacatarinense.vteximg.com.br/arquivos/ids/199032-500-500/rotulo_dc_generico_receita.jpg?v=638273602658700000\n",
      "https://drogariacatarinense.vteximg.com.br/arquivos/ids/184006-500-500/742691.jpg?v=637889898945500000\n",
      "https://drogariacatarinense.vteximg.com.br/arquivos/ids/182040-500-500/rotulo_dc_generico_receita.jpg?v=637854490624300000\n",
      "https://drogariacatarinense.vteximg.com.br/arquivos/ids/195041-500-500/rotulo_dc_generico_retencao_receita.jpg?v=638167522593630000\n",
      "https://drogariacatarinense.vteximg.com.br/arquivos/ids/220598-500-500/Similar_TarjaVermelha.jpg?v=638675508261070000\n",
      "https://drogariacatarinense.vteximg.com.br/arquivos/ids/182488-500-500/generico_receita_dc.jpg?v=637854554196200000\n",
      "https://drogariacatarinense.vteximg.com.br/arquivos/ids/180081-500-500/rotulo_dc_receita.jpg?v=637843294410830000\n",
      "https://drogariacatarinense.vteximg.com.br/arquivos/ids/182051-500-500/rotulo_dc_generico_receita.jpg?v=637854493909530000\n",
      "https://drogariacatarinense.vteximg.com.br/arquivos/ids/163330-500-500/714888.jpg?v=637275170015070000\n",
      "https://drogariacatarinense.vteximg.com.br/arquivos/ids/183489-500-500/rotulo_dc_generico_receita.jpg?v=637872709190500000\n",
      "https://drogariacatarinense.vteximg.com.br/arquivos/ids/220631-500-500/Similar_TarjaVermelha.jpg?v=638675551456200000\n",
      "https://drogariacatarinense.vteximg.com.br/arquivos/ids/179622-500-500/rotulo_dc_receita.jpg?v=637837413232770000\n",
      "https://drogariacatarinense.vteximg.com.br/arquivos/ids/161947-500-500/695935.jpg?v=637275161508370000\n",
      "https://drogariacatarinense.vteximg.com.br/arquivos/ids/226958-500-500/695972a.jpg.jpg?v=638750536835870000\n",
      "https://drogariacatarinense.vteximg.com.br/arquivos/ids/220601-500-500/Similar_TarjaVermelha.jpg?v=638675510522270000\n",
      "https://drogariacatarinense.vteximg.com.br/arquivos/ids/191350-500-500/rotulo_dc_generico_receita.jpg?v=638086250418400000\n",
      "https://drogariacatarinense.vteximg.com.br/arquivos/ids/215140-500-500/694276.jpg?v=638600308106900000\n"
     ]
    }
   ],
   "source": [
    "for url in urls_imagens:\n",
    "    print(url)"
   ]
  },
  {
   "cell_type": "code",
   "execution_count": 121,
   "metadata": {},
   "outputs": [],
   "source": [
    "dictDF = {'imagens': urls_imagens,}\n",
    "\n",
    "pd.DataFrame(dictDF)\n",
    "\n",
    "df = pd.DataFrame(dictDF)"
   ]
  },
  {
   "cell_type": "code",
   "execution_count": 122,
   "metadata": {},
   "outputs": [],
   "source": [
    "df.to_excel('imagens.xlsx', index=False)"
   ]
  },
  {
   "cell_type": "code",
   "execution_count": 123,
   "metadata": {},
   "outputs": [],
   "source": [
    "driver.quit()"
   ]
  }
 ],
 "metadata": {
  "kernelspec": {
   "display_name": ".venv",
   "language": "python",
   "name": "python3"
  },
  "language_info": {
   "codemirror_mode": {
    "name": "ipython",
    "version": 3
   },
   "file_extension": ".py",
   "mimetype": "text/x-python",
   "name": "python",
   "nbconvert_exporter": "python",
   "pygments_lexer": "ipython3",
   "version": "3.12.6"
  }
 },
 "nbformat": 4,
 "nbformat_minor": 2
}
