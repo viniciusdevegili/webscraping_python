{
 "cells": [
  {
   "cell_type": "code",
   "execution_count": 1,
   "metadata": {},
   "outputs": [
    {
     "name": "stdout",
     "output_type": "stream",
     "text": [
      "Requirement already satisfied: pandas in c:\\users\\vinic\\onedrive\\área de trabalho\\webscraping\\.venv\\lib\\site-packages (2.2.3)\n",
      "Requirement already satisfied: numpy>=1.26.0 in c:\\users\\vinic\\onedrive\\área de trabalho\\webscraping\\.venv\\lib\\site-packages (from pandas) (2.2.3)\n",
      "Requirement already satisfied: python-dateutil>=2.8.2 in c:\\users\\vinic\\onedrive\\área de trabalho\\webscraping\\.venv\\lib\\site-packages (from pandas) (2.9.0.post0)\n",
      "Requirement already satisfied: pytz>=2020.1 in c:\\users\\vinic\\onedrive\\área de trabalho\\webscraping\\.venv\\lib\\site-packages (from pandas) (2025.1)\n",
      "Requirement already satisfied: tzdata>=2022.7 in c:\\users\\vinic\\onedrive\\área de trabalho\\webscraping\\.venv\\lib\\site-packages (from pandas) (2025.1)\n",
      "Requirement already satisfied: six>=1.5 in c:\\users\\vinic\\onedrive\\área de trabalho\\webscraping\\.venv\\lib\\site-packages (from python-dateutil>=2.8.2->pandas) (1.17.0)\n",
      "Note: you may need to restart the kernel to use updated packages.\n"
     ]
    }
   ],
   "source": [
    "# Bibliotecas\n",
    "%pip install pandas\n",
    "import pandas as pd"
   ]
  },
  {
   "cell_type": "code",
   "execution_count": 2,
   "metadata": {},
   "outputs": [
    {
     "name": "stdout",
     "output_type": "stream",
     "text": [
      "Requirement already satisfied: selenium in c:\\users\\vinic\\onedrive\\área de trabalho\\webscraping\\.venv\\lib\\site-packages (4.28.1)\n",
      "Requirement already satisfied: urllib3<3,>=1.26 in c:\\users\\vinic\\onedrive\\área de trabalho\\webscraping\\.venv\\lib\\site-packages (from urllib3[socks]<3,>=1.26->selenium) (2.3.0)\n",
      "Requirement already satisfied: trio~=0.17 in c:\\users\\vinic\\onedrive\\área de trabalho\\webscraping\\.venv\\lib\\site-packages (from selenium) (0.29.0)\n",
      "Requirement already satisfied: trio-websocket~=0.9 in c:\\users\\vinic\\onedrive\\área de trabalho\\webscraping\\.venv\\lib\\site-packages (from selenium) (0.12.1)\n",
      "Requirement already satisfied: certifi>=2021.10.8 in c:\\users\\vinic\\onedrive\\área de trabalho\\webscraping\\.venv\\lib\\site-packages (from selenium) (2025.1.31)\n",
      "Requirement already satisfied: typing_extensions~=4.9 in c:\\users\\vinic\\onedrive\\área de trabalho\\webscraping\\.venv\\lib\\site-packages (from selenium) (4.12.2)\n",
      "Requirement already satisfied: websocket-client~=1.8 in c:\\users\\vinic\\onedrive\\área de trabalho\\webscraping\\.venv\\lib\\site-packages (from selenium) (1.8.0)\n",
      "Requirement already satisfied: attrs>=23.2.0 in c:\\users\\vinic\\onedrive\\área de trabalho\\webscraping\\.venv\\lib\\site-packages (from trio~=0.17->selenium) (25.1.0)\n",
      "Requirement already satisfied: sortedcontainers in c:\\users\\vinic\\onedrive\\área de trabalho\\webscraping\\.venv\\lib\\site-packages (from trio~=0.17->selenium) (2.4.0)\n",
      "Requirement already satisfied: idna in c:\\users\\vinic\\onedrive\\área de trabalho\\webscraping\\.venv\\lib\\site-packages (from trio~=0.17->selenium) (3.10)\n",
      "Requirement already satisfied: outcome in c:\\users\\vinic\\onedrive\\área de trabalho\\webscraping\\.venv\\lib\\site-packages (from trio~=0.17->selenium) (1.3.0.post0)\n",
      "Requirement already satisfied: sniffio>=1.3.0 in c:\\users\\vinic\\onedrive\\área de trabalho\\webscraping\\.venv\\lib\\site-packages (from trio~=0.17->selenium) (1.3.1)\n",
      "Requirement already satisfied: cffi>=1.14 in c:\\users\\vinic\\onedrive\\área de trabalho\\webscraping\\.venv\\lib\\site-packages (from trio~=0.17->selenium) (1.17.1)\n",
      "Requirement already satisfied: wsproto>=0.14 in c:\\users\\vinic\\onedrive\\área de trabalho\\webscraping\\.venv\\lib\\site-packages (from trio-websocket~=0.9->selenium) (1.2.0)\n",
      "Requirement already satisfied: pysocks!=1.5.7,<2.0,>=1.5.6 in c:\\users\\vinic\\onedrive\\área de trabalho\\webscraping\\.venv\\lib\\site-packages (from urllib3[socks]<3,>=1.26->selenium) (1.7.1)\n",
      "Requirement already satisfied: pycparser in c:\\users\\vinic\\onedrive\\área de trabalho\\webscraping\\.venv\\lib\\site-packages (from cffi>=1.14->trio~=0.17->selenium) (2.22)\n",
      "Requirement already satisfied: h11<1,>=0.9.0 in c:\\users\\vinic\\onedrive\\área de trabalho\\webscraping\\.venv\\lib\\site-packages (from wsproto>=0.14->trio-websocket~=0.9->selenium) (0.14.0)\n",
      "Note: you may need to restart the kernel to use updated packages.\n"
     ]
    }
   ],
   "source": [
    "# Bibliotecas para o Scraping\n",
    "%pip install selenium\n",
    "from selenium import webdriver\n",
    "from selenium.webdriver.chrome.service import Service\n",
    "from selenium.webdriver.common.by import By"
   ]
  },
  {
   "cell_type": "code",
   "execution_count": 3,
   "metadata": {},
   "outputs": [],
   "source": [
    "# Instância do Chrome\n",
    "\n",
    "# Classe Service, usada para iniciar uma instância do Chrome\n",
    "service = Service()\n",
    "\n",
    "# Usado para definir a preferência para o brower do Chrome\n",
    "options = webdriver.ChromeOptions()\n",
    "\n",
    "# Inicia a instância do Chrome WebDriver com as definidas 'options' e 'services\n",
    "driver = webdriver.Chrome(service=service, options=options)"
   ]
  },
  {
   "cell_type": "code",
   "execution_count": 4,
   "metadata": {},
   "outputs": [],
   "source": [
    "# URL\n",
    "url = 'https://www.drogariacatarinense.com.br/medicamentos#1'\n",
    "\n",
    "# Acessa a URL\n",
    "driver.get(url)"
   ]
  },
  {
   "cell_type": "code",
   "execution_count": 5,
   "metadata": {},
   "outputs": [],
   "source": [
    "produtos = driver.find_elements(By.XPATH, \"//div[@class='product-item__info']//h3[@class='product-item__title']/a\")\n",
    "imagens = driver.find_elements(By.XPATH, \"//div[@class='product-item__info']//img\")"
   ]
  },
  {
   "cell_type": "code",
   "execution_count": 6,
   "metadata": {},
   "outputs": [],
   "source": [
    "titleList = [produto.get_attribute('title') for produto in produtos]\n",
    "urls_imagens = [img.get_attribute('src') for img in imagens]"
   ]
  },
  {
   "cell_type": "code",
   "execution_count": 7,
   "metadata": {},
   "outputs": [
    {
     "name": "stdout",
     "output_type": "stream",
     "text": [
      "Tadalafila Medley 5mg Com 30 Comprimidos\n",
      "Tadalafila Eurofarma 20mg Com 4 Comprimidos\n",
      "Vitamina D3 Neo Quimica Com 8 Capsulas 50000ui\n",
      "Sildenafila Eurofarma 50mg Com 4 Comprimidos\n",
      "Rosuvastatina Calcica Ems 10mg Com 30 Comprimidos\n",
      "Tadalafila Medley 20mg Com 4 Comprimidos\n",
      "Vitamina  B12 Maxinutri Com 60 Comprimidos Mastigaveis\n",
      "Fluconazol Vitamedic Com 2 Capsulas 150mg Generico\n",
      "Fexofenadina Ems Com 10 Comprimidos Revestidos 120mg Genericos\n",
      "Albendazol Medley Com 3 Comprimidos Mastigaveis 400mg Generico\n",
      "Sertralina Medley 50mg Com 30 Comprimidos\n",
      "Torsilax Com 30 Comprimidos\n",
      "Drospirenona + Etinilestradiol 3mg + 0,02mg Ems Com 24 Comprimidos\n",
      "Qlaira Com 28 Comprimidos Revestidos\n",
      "Ivermectina Vitamedic 6mg Com 4 Comprimidos\n",
      "Paracetamol Teuto 750mg Com 20 Comprimidos\n",
      "Fluconazol Cimed 150mg Com 2 Capsulas\n",
      "Neosoro Adulto Gotas 30ml\n",
      "Citoneurin 5000 Com 3 Ampolas I + 3 Ampolas Ii De 1ml Cada\n",
      "Loratadina Biosintetica 10mg Com 12 Comprimidos\n",
      "Cimegripe 400mg Com 20 Capsulas\n",
      "Neodia 1,5mg Com 1 Comprimido\n",
      "Ibuprofeno Prati 600mg Com 20 Comprimidos\n",
      "Dipirona Ems 500mg Com 10 Comprimidos\n"
     ]
    }
   ],
   "source": [
    "for titulo in titleList:\n",
    "    print(titulo)"
   ]
  },
  {
   "cell_type": "code",
   "execution_count": 8,
   "metadata": {},
   "outputs": [],
   "source": [
    "for url in urls_imagens:\n",
    "    print(url)"
   ]
  },
  {
   "cell_type": "code",
   "execution_count": 10,
   "metadata": {},
   "outputs": [],
   "source": [
    "dictDF = {'titulo': titleList,}\n",
    "\n",
    "pd.DataFrame(dictDF)\n",
    "df = pd.DataFrame(dictDF)"
   ]
  },
  {
   "cell_type": "code",
   "execution_count": 11,
   "metadata": {},
   "outputs": [],
   "source": [
    "df.to_excel('titulos.xlsx', index=False)"
   ]
  },
  {
   "cell_type": "code",
   "execution_count": null,
   "metadata": {},
   "outputs": [],
   "source": [
    "driver.quit()"
   ]
  }
 ],
 "metadata": {
  "kernelspec": {
   "display_name": ".venv",
   "language": "python",
   "name": "python3"
  },
  "language_info": {
   "codemirror_mode": {
    "name": "ipython",
    "version": 3
   },
   "file_extension": ".py",
   "mimetype": "text/x-python",
   "name": "python",
   "nbconvert_exporter": "python",
   "pygments_lexer": "ipython3",
   "version": "3.12.6"
  }
 },
 "nbformat": 4,
 "nbformat_minor": 2
}
